{
 "cells": [
  {
   "cell_type": "code",
   "execution_count": 13,
   "id": "1723f141",
   "metadata": {},
   "outputs": [],
   "source": [
    "import numpy as np\n",
    "import tensorflow as tf\n",
    "from tensorflow.keras.preprocessing.image import ImageDataGenerator\n",
    "from tensorflow.keras.models import Sequential\n",
    "from tensorflow.keras.layers import Conv2D, MaxPooling2D, Flatten, Dense, Dropout\n",
    "import matplotlib.pyplot as plt\n"
   ]
  },
  {
   "cell_type": "code",
   "execution_count": 2,
   "id": "e89f723f",
   "metadata": {},
   "outputs": [],
   "source": [
    "# Add this in a new cell before model training\n",
    "\n"
   ]
  },
  {
   "cell_type": "code",
   "execution_count": 3,
   "id": "040f259e",
   "metadata": {},
   "outputs": [
    {
     "name": "stdout",
     "output_type": "stream",
     "text": [
      "Found 78000 images belonging to 26 classes.\n",
      "Found 26 images belonging to 26 classes.\n"
     ]
    }
   ],
   "source": [
    "train_path = r\"C:\\Users\\thula\\Documents\\Mini_Project\\Dataset\\training_set\"\n",
    "test_path = r\"C:\\Users\\thula\\Documents\\Mini_Project\\Dataset\\test_set\"\n",
    "\n",
    "train_datagen = ImageDataGenerator(rescale=1./255, shear_range=0.2, zoom_range=0.2, horizontal_flip=True)\n",
    "test_datagen = ImageDataGenerator(rescale=1./255)\n",
    "\n",
    "train_set = train_datagen.flow_from_directory(train_path, \n",
    "                                              target_size=(64,64), \n",
    "                                              batch_size=32, \n",
    "                                              class_mode='categorical')\n",
    "\n",
    "test_set = test_datagen.flow_from_directory(test_path, \n",
    "                                            target_size=(64,64), \n",
    "                                            batch_size=32, \n",
    "                                            class_mode='categorical')\n"
   ]
  },
  {
   "cell_type": "code",
   "execution_count": 4,
   "id": "e20ded28",
   "metadata": {},
   "outputs": [
    {
     "data": {
      "text/plain": [
       "{'A': 0,\n",
       " 'B': 1,\n",
       " 'C': 2,\n",
       " 'D': 3,\n",
       " 'E': 4,\n",
       " 'F': 5,\n",
       " 'G': 6,\n",
       " 'H': 7,\n",
       " 'I': 8,\n",
       " 'J': 9,\n",
       " 'K': 10,\n",
       " 'L': 11,\n",
       " 'M': 12,\n",
       " 'N': 13,\n",
       " 'O': 14,\n",
       " 'P': 15,\n",
       " 'Q': 16,\n",
       " 'R': 17,\n",
       " 'S': 18,\n",
       " 'T': 19,\n",
       " 'U': 20,\n",
       " 'V': 21,\n",
       " 'W': 22,\n",
       " 'X': 23,\n",
       " 'Y': 24,\n",
       " 'Z': 25}"
      ]
     },
     "execution_count": 4,
     "metadata": {},
     "output_type": "execute_result"
    }
   ],
   "source": [
    "import json\n",
    "\n",
    "with open(\"class_indices.json\", \"w\") as f:\n",
    "    json.dump(train_set.class_indices, f)\n",
    "\n",
    "train_set.class_indices"
   ]
  },
  {
   "cell_type": "code",
   "execution_count": 5,
   "id": "ce77cc6b",
   "metadata": {},
   "outputs": [
    {
     "name": "stdout",
     "output_type": "stream",
     "text": [
      "Model: \"sequential\"\n",
      "_________________________________________________________________\n",
      " Layer (type)                Output Shape              Param #   \n",
      "=================================================================\n",
      " conv2d (Conv2D)             (None, 62, 62, 64)        1792      \n",
      "                                                                 \n",
      " max_pooling2d (MaxPooling2D  (None, 31, 31, 64)       0         \n",
      " )                                                               \n",
      "                                                                 \n",
      " conv2d_1 (Conv2D)           (None, 29, 29, 128)       73856     \n",
      "                                                                 \n",
      " max_pooling2d_1 (MaxPooling  (None, 14, 14, 128)      0         \n",
      " 2D)                                                             \n",
      "                                                                 \n",
      " conv2d_2 (Conv2D)           (None, 12, 12, 256)       295168    \n",
      "                                                                 \n",
      " max_pooling2d_2 (MaxPooling  (None, 6, 6, 256)        0         \n",
      " 2D)                                                             \n",
      "                                                                 \n",
      " flatten (Flatten)           (None, 9216)              0         \n",
      "                                                                 \n",
      " dense (Dense)               (None, 512)               4719104   \n",
      "                                                                 \n",
      " dropout (Dropout)           (None, 512)               0         \n",
      "                                                                 \n",
      " dense_1 (Dense)             (None, 26)                13338     \n",
      "                                                                 \n",
      "=================================================================\n",
      "Total params: 5,103,258\n",
      "Trainable params: 5,103,258\n",
      "Non-trainable params: 0\n",
      "_________________________________________________________________\n"
     ]
    }
   ],
   "source": [
    "model = Sequential([\n",
    "    Conv2D(64, (3,3), activation='relu', input_shape=(64,64,3)),\n",
    "    MaxPooling2D(2,2),\n",
    "    \n",
    "    Conv2D(128, (3,3), activation='relu'),\n",
    "    MaxPooling2D(2,2),\n",
    "    \n",
    "    Conv2D(256, (3,3), activation='relu'),\n",
    "    MaxPooling2D(2,2),\n",
    "\n",
    "    Flatten(),\n",
    "    Dense(512, activation='relu'),\n",
    "    Dropout(0.5),\n",
    "    Dense(26, activation='softmax')  # 26 classes for A-Z\n",
    "])\n",
    "\n",
    "model.compile(optimizer='adam', loss='categorical_crossentropy', metrics=['accuracy'])\n",
    "model.summary()\n"
   ]
  },
  {
   "cell_type": "code",
   "execution_count": 6,
   "id": "cdf5e667",
   "metadata": {},
   "outputs": [
    {
     "name": "stdout",
     "output_type": "stream",
     "text": [
      "Epoch 1/50\n",
      "120/120 [==============================] - 119s 932ms/step - loss: 3.2263 - accuracy: 0.0516 - val_loss: 2.8346 - val_accuracy: 0.0769\n",
      "Epoch 2/50\n",
      "120/120 [==============================] - 103s 858ms/step - loss: 2.9171 - accuracy: 0.1362 - val_loss: 1.7928 - val_accuracy: 0.4615\n",
      "Epoch 3/50\n",
      "120/120 [==============================] - 106s 878ms/step - loss: 2.3930 - accuracy: 0.2643 - val_loss: 1.1977 - val_accuracy: 0.6538\n",
      "Epoch 4/50\n",
      "120/120 [==============================] - 102s 850ms/step - loss: 1.9976 - accuracy: 0.3724 - val_loss: 0.7313 - val_accuracy: 0.6538\n",
      "Epoch 5/50\n",
      "120/120 [==============================] - 106s 873ms/step - loss: 1.6289 - accuracy: 0.4688 - val_loss: 0.5393 - val_accuracy: 0.7692\n",
      "Epoch 6/50\n",
      "120/120 [==============================] - 108s 897ms/step - loss: 1.4186 - accuracy: 0.5456 - val_loss: 0.4984 - val_accuracy: 0.8077\n",
      "Epoch 7/50\n",
      "120/120 [==============================] - 105s 870ms/step - loss: 1.2376 - accuracy: 0.5880 - val_loss: 0.2285 - val_accuracy: 0.9615\n",
      "Epoch 8/50\n",
      "120/120 [==============================] - 664s 6s/step - loss: 1.0559 - accuracy: 0.6422 - val_loss: 0.1971 - val_accuracy: 0.9231\n",
      "Epoch 9/50\n",
      "120/120 [==============================] - 136s 1s/step - loss: 0.9422 - accuracy: 0.6885 - val_loss: 0.1625 - val_accuracy: 0.9615\n",
      "Epoch 10/50\n",
      "120/120 [==============================] - 129s 1s/step - loss: 0.8487 - accuracy: 0.7117 - val_loss: 0.1736 - val_accuracy: 0.9615\n",
      "Epoch 11/50\n",
      "120/120 [==============================] - 132s 1s/step - loss: 0.7381 - accuracy: 0.7443 - val_loss: 0.1391 - val_accuracy: 1.0000\n",
      "Epoch 12/50\n",
      "120/120 [==============================] - 134s 1s/step - loss: 0.6639 - accuracy: 0.7737 - val_loss: 0.0899 - val_accuracy: 1.0000\n",
      "Epoch 13/50\n",
      "120/120 [==============================] - 1940s 16s/step - loss: 0.6304 - accuracy: 0.7820 - val_loss: 0.1060 - val_accuracy: 0.9231\n",
      "Epoch 14/50\n",
      "120/120 [==============================] - 97s 809ms/step - loss: 0.5506 - accuracy: 0.8094 - val_loss: 0.2800 - val_accuracy: 0.8462\n",
      "Epoch 15/50\n",
      "120/120 [==============================] - 103s 852ms/step - loss: 0.5563 - accuracy: 0.8052 - val_loss: 0.0764 - val_accuracy: 0.9615\n",
      "Epoch 16/50\n",
      "120/120 [==============================] - 103s 855ms/step - loss: 0.5019 - accuracy: 0.8260 - val_loss: 0.0650 - val_accuracy: 0.9615\n",
      "Epoch 17/50\n",
      "120/120 [==============================] - 119s 983ms/step - loss: 0.4452 - accuracy: 0.8452 - val_loss: 0.0820 - val_accuracy: 0.9615\n",
      "Epoch 18/50\n",
      "120/120 [==============================] - 118s 979ms/step - loss: 0.4394 - accuracy: 0.8435 - val_loss: 0.0463 - val_accuracy: 0.9615\n",
      "Epoch 19/50\n",
      "120/120 [==============================] - 2399s 20s/step - loss: 0.4140 - accuracy: 0.8508 - val_loss: 0.0384 - val_accuracy: 1.0000\n",
      "Epoch 20/50\n",
      "120/120 [==============================] - 115s 950ms/step - loss: 0.3799 - accuracy: 0.8664 - val_loss: 0.0285 - val_accuracy: 1.0000\n",
      "Epoch 21/50\n",
      "120/120 [==============================] - 149s 1s/step - loss: 0.3903 - accuracy: 0.8622 - val_loss: 0.0692 - val_accuracy: 0.9615\n",
      "Epoch 22/50\n",
      "120/120 [==============================] - 148s 1s/step - loss: 0.3405 - accuracy: 0.8802 - val_loss: 0.0374 - val_accuracy: 0.9615\n",
      "Epoch 23/50\n",
      "120/120 [==============================] - 134s 1s/step - loss: 0.2975 - accuracy: 0.8982 - val_loss: 0.0347 - val_accuracy: 0.9615\n",
      "Epoch 24/50\n",
      "120/120 [==============================] - 138s 1s/step - loss: 0.3260 - accuracy: 0.8857 - val_loss: 0.0318 - val_accuracy: 1.0000\n",
      "Epoch 25/50\n",
      "120/120 [==============================] - 139s 1s/step - loss: 0.3165 - accuracy: 0.8930 - val_loss: 0.0367 - val_accuracy: 1.0000\n"
     ]
    }
   ],
   "source": [
    "from tensorflow.keras.callbacks import EarlyStopping\n",
    "from tensorflow.keras.callbacks import ReduceLROnPlateau\n",
    "\n",
    "# Define EarlyStopping\n",
    "early_stopping = EarlyStopping(\n",
    "    monitor='val_loss',     # what to monitor\n",
    "    patience=5,             # how many epochs to wait before stopping\n",
    "    restore_best_weights=True  # restore model weights from the epoch with the best value of the monitored quantity\n",
    ")\n",
    "\n",
    "\n",
    "\n",
    "# Fit model with EarlyStopping\n",
    "history=model.fit(\n",
    "    train_set,\n",
    "    steps_per_epoch= 120,\n",
    "    epochs=50,\n",
    "    validation_data=test_set,\n",
    "    callbacks=[early_stopping]  # Add the callback here\n",
    ")\n",
    "\n"
   ]
  },
  {
   "cell_type": "code",
   "execution_count": 7,
   "id": "619e67dd",
   "metadata": {},
   "outputs": [
    {
     "data": {
      "image/png": "[encoded data removed]",
      "text/plain": [
       "<Figure size 640x480 with 1 Axes>"
      ]
     },
     "metadata": {},
     "output_type": "display_data"
    }
   ],
   "source": [
    "model.save('asl_better_model.h5')\n",
    "\n",
    "plt.plot(history.history['accuracy'], label='Train Accuracy')\n",
    "plt.plot(history.history['val_accuracy'], label='Validation Accuracy')\n",
    "plt.title('Model Accuracy')\n",
    "plt.ylabel('Accuracy')\n",
    "plt.xlabel('Epoch')\n",
    "plt.legend(loc='lower right')\n",
    "plt.show()\n"
   ]
  },
  {
   "cell_type": "code",
   "execution_count": null,
   "id": "c6f02b54",
   "metadata": {},
   "outputs": [],
   "source": []
  },
  {
   "cell_type": "code",
   "execution_count": null,
   "id": "bfb3b5b1",
   "metadata": {},
   "outputs": [],
   "source": [
    "\n"
   ]
  },
  {
   "cell_type": "code",
   "execution_count": null,
   "id": "e0f85e16",
   "metadata": {},
   "outputs": [],
   "source": [
    "\n"
   ]
  },
  {
   "cell_type": "code",
   "execution_count": 11,
   "id": "24c02d4b",
   "metadata": {
    "scrolled": true
   },
   "outputs": [
    {
     "name": "stdout",
     "output_type": "stream",
     "text": [
      "Found 26 images belonging to 26 classes.\n",
      "1/1 [==============================] - 3s 3s/step - loss: 0.0285 - accuracy: 1.0000\n",
      "Test Accuracy: 100.00%\n"
     ]
    }
   ],
   "source": [
    "from tensorflow.keras.models import load_model\n",
    "from tensorflow.keras.preprocessing.image import ImageDataGenerator\n",
    "\n",
    "# Load the model\n",
    "model = load_model('asl_better_model.h5')\n",
    "\n",
    "# Define the path to the test set\n",
    "test_path = r\"C:\\Users\\thula\\Documents\\Mini_Project\\Dataset\\test_set\"\n",
    "\n",
    "# Image size and batch size must match training\n",
    "IMG_SIZE = 64\n",
    "BATCH_SIZE = 32\n",
    "\n",
    "# Test data generator\n",
    "test_datagen = ImageDataGenerator(rescale=1./255)\n",
    "test_set = test_datagen.flow_from_directory(\n",
    "    test_path,\n",
    "    target_size=(IMG_SIZE, IMG_SIZE),\n",
    "    batch_size=BATCH_SIZE,\n",
    "    class_mode='categorical',\n",
    "    shuffle=False  # Important for accurate evaluation\n",
    ")\n",
    "\n",
    "# Evaluate the model\n",
    "loss, accuracy = model.evaluate(test_set)\n",
    "print(f\"Test Accuracy: {accuracy * 100:.2f}%\")\n"
   ]
  },
  {
   "cell_type": "code",
   "execution_count": 16,
   "id": "6324b54e",
   "metadata": {},
   "outputs": [
    {
     "name": "stdout",
     "output_type": "stream",
     "text": [
      "1/1 [==============================] - 1s 858ms/step - loss: 0.0285 - accuracy: 1.0000\n",
      "Overall Test Accuracy: 100.00%\n"
     ]
    }
   ],
   "source": [
    "# Evaluate the model on the test set\n",
    "loss, accuracy = model.evaluate(test_set)\n",
    "\n",
    "# Print accuracy as a percentage\n",
    "print(f\"Overall Test Accuracy: {accuracy * 100:.2f}%\")\n"
   ]
  },
  {
   "cell_type": "code",
   "execution_count": null,
   "id": "1163842b",
   "metadata": {},
   "outputs": [],
   "source": []
  }
 ],
 "metadata": {
  "kernelspec": {
   "display_name": "Python (tf_env)",
   "language": "python",
   "name": "tf_env"
  },
  "language_info": {
   "codemirror_mode": {
    "name": "ipython",
    "version": 3
   },
   "file_extension": ".py",
   "mimetype": "text/x-python",
   "name": "python",
   "nbconvert_exporter": "python",
   "pygments_lexer": "ipython3",
   "version": "3.10.16"
  }
 },
 "nbformat": 4,
 "nbformat_minor": 5
}
