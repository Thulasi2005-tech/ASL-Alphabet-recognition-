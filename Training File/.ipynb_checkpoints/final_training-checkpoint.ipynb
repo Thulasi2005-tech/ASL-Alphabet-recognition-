{
 "cells": [
  {
   "cell_type": "code",
   "execution_count": 1,
   "id": "1723f141",
   "metadata": {},
   "outputs": [],
   "source": [
    "import numpy as np\n",
    "import tensorflow as tf\n",
    "from tensorflow.keras.preprocessing.image import ImageDataGenerator\n",
    "from tensorflow.keras.models import Sequential\n",
    "from tensorflow.keras.layers import Conv2D, MaxPooling2D, Flatten, Dense, Dropout\n",
    "import matplotlib.pyplot as plt\n"
   ]
  },
  {
   "cell_type": "code",
   "execution_count": 2,
   "id": "e89f723f",
   "metadata": {},
   "outputs": [],
   "source": [
    "# Add this in a new cell before model training\n",
    "\n"
   ]
  },
  {
   "cell_type": "code",
   "execution_count": 3,
   "id": "040f259e",
   "metadata": {},
   "outputs": [
    {
     "name": "stdout",
     "output_type": "stream",
     "text": [
      "Found 78000 images belonging to 26 classes.\n",
      "Found 26 images belonging to 26 classes.\n"
     ]
    }
   ],
   "source": [
    "train_path = r\"C:\\Users\\thula\\Documents\\Mini_Project\\Dataset\\training_set\"\n",
    "test_path = r\"C:\\Users\\thula\\Documents\\Mini_Project\\Dataset\\test_set\"\n",
    "\n",
    "train_datagen = ImageDataGenerator(rescale=1./255, shear_range=0.2, zoom_range=0.2, horizontal_flip=True)\n",
    "test_datagen = ImageDataGenerator(rescale=1./255)\n",
    "\n",
    "train_set = train_datagen.flow_from_directory(train_path, \n",
    "                                              target_size=(64,64), \n",
    "                                              batch_size=32, \n",
    "                                              class_mode='categorical')\n",
    "\n",
    "test_set = test_datagen.flow_from_directory(test_path, \n",
    "                                            target_size=(64,64), \n",
    "                                            batch_size=32, \n",
    "                                            class_mode='categorical')\n"
   ]
  },
  {
   "cell_type": "code",
   "execution_count": 4,
   "id": "e20ded28",
   "metadata": {},
   "outputs": [
    {
     "data": {
      "text/plain": [
       "{'A': 0,\n",
       " 'B': 1,\n",
       " 'C': 2,\n",
       " 'D': 3,\n",
       " 'E': 4,\n",
       " 'F': 5,\n",
       " 'G': 6,\n",
       " 'H': 7,\n",
       " 'I': 8,\n",
       " 'J': 9,\n",
       " 'K': 10,\n",
       " 'L': 11,\n",
       " 'M': 12,\n",
       " 'N': 13,\n",
       " 'O': 14,\n",
       " 'P': 15,\n",
       " 'Q': 16,\n",
       " 'R': 17,\n",
       " 'S': 18,\n",
       " 'T': 19,\n",
       " 'U': 20,\n",
       " 'V': 21,\n",
       " 'W': 22,\n",
       " 'X': 23,\n",
       " 'Y': 24,\n",
       " 'Z': 25}"
      ]
     },
     "execution_count": 4,
     "metadata": {},
     "output_type": "execute_result"
    }
   ],
   "source": [
    "import json\n",
    "\n",
    "with open(\"class_indices.json\", \"w\") as f:\n",
    "    json.dump(train_set.class_indices, f)\n",
    "\n",
    "train_set.class_indices"
   ]
  },
  {
   "cell_type": "code",
   "execution_count": 5,
   "id": "ce77cc6b",
   "metadata": {},
   "outputs": [
    {
     "name": "stdout",
     "output_type": "stream",
     "text": [
      "Model: \"sequential\"\n",
      "_________________________________________________________________\n",
      " Layer (type)                Output Shape              Param #   \n",
      "=================================================================\n",
      " conv2d (Conv2D)             (None, 62, 62, 64)        1792      \n",
      "                                                                 \n",
      " max_pooling2d (MaxPooling2D  (None, 31, 31, 64)       0         \n",
      " )                                                               \n",
      "                                                                 \n",
      " conv2d_1 (Conv2D)           (None, 29, 29, 128)       73856     \n",
      "                                                                 \n",
      " max_pooling2d_1 (MaxPooling  (None, 14, 14, 128)      0         \n",
      " 2D)                                                             \n",
      "                                                                 \n",
      " conv2d_2 (Conv2D)           (None, 12, 12, 256)       295168    \n",
      "                                                                 \n",
      " max_pooling2d_2 (MaxPooling  (None, 6, 6, 256)        0         \n",
      " 2D)                                                             \n",
      "                                                                 \n",
      " flatten (Flatten)           (None, 9216)              0         \n",
      "                                                                 \n",
      " dense (Dense)               (None, 512)               4719104   \n",
      "                                                                 \n",
      " dropout (Dropout)           (None, 512)               0         \n",
      "                                                                 \n",
      " dense_1 (Dense)             (None, 26)                13338     \n",
      "                                                                 \n",
      "=================================================================\n",
      "Total params: 5,103,258\n",
      "Trainable params: 5,103,258\n",
      "Non-trainable params: 0\n",
      "_________________________________________________________________\n"
     ]
    }
   ],
   "source": [
    "model = Sequential([\n",
    "    Conv2D(64, (3,3), activation='relu', input_shape=(64,64,3)),\n",
    "    MaxPooling2D(2,2),\n",
    "    \n",
    "    Conv2D(128, (3,3), activation='relu'),\n",
    "    MaxPooling2D(2,2),\n",
    "    \n",
    "    Conv2D(256, (3,3), activation='relu'),\n",
    "    MaxPooling2D(2,2),\n",
    "\n",
    "    Flatten(),\n",
    "    Dense(512, activation='relu'),\n",
    "    Dropout(0.5),\n",
    "    Dense(26, activation='softmax')  # 26 classes for A-Z\n",
    "])\n",
    "\n",
    "model.compile(optimizer='adam', loss='categorical_crossentropy', metrics=['accuracy'])\n",
    "model.summary()\n"
   ]
  },
  {
   "cell_type": "code",
   "execution_count": null,
   "id": "cdf5e667",
   "metadata": {},
   "outputs": [
    {
     "name": "stdout",
     "output_type": "stream",
     "text": [
      "Epoch 1/50\n",
      "120/120 [==============================] - 59s 461ms/step - loss: 3.2454 - accuracy: 0.0492 - val_loss: 2.9168 - val_accuracy: 0.0769\n",
      "Epoch 2/50\n",
      "120/120 [==============================] - 55s 454ms/step - loss: 2.9134 - accuracy: 0.1323 - val_loss: 1.8143 - val_accuracy: 0.3846\n",
      "Epoch 3/50\n",
      "120/120 [==============================] - 55s 455ms/step - loss: 2.3347 - accuracy: 0.2867 - val_loss: 1.0658 - val_accuracy: 0.6923\n",
      "Epoch 4/50\n",
      "120/120 [==============================] - 54s 449ms/step - loss: 1.9210 - accuracy: 0.3854 - val_loss: 0.8156 - val_accuracy: 0.7308\n",
      "Epoch 5/50\n",
      "120/120 [==============================] - 53s 444ms/step - loss: 1.5901 - accuracy: 0.4763 - val_loss: 0.4454 - val_accuracy: 0.8462\n",
      "Epoch 6/50\n",
      "120/120 [==============================] - 54s 452ms/step - loss: 1.4037 - accuracy: 0.5440 - val_loss: 0.2683 - val_accuracy: 0.9615\n",
      "Epoch 7/50\n",
      "120/120 [==============================] - 53s 443ms/step - loss: 1.2280 - accuracy: 0.5938 - val_loss: 0.3083 - val_accuracy: 0.8846\n",
      "Epoch 8/50\n",
      " 44/120 [==========>...................] - ETA: 34s - loss: 1.0517 - accuracy: 0.6570"
     ]
    }
   ],
   "source": [
    "from tensorflow.keras.callbacks import EarlyStopping\n",
    "from tensorflow.keras.callbacks import ReduceLROnPlateau\n",
    "\n",
    "# Define EarlyStopping\n",
    "early_stopping = EarlyStopping(\n",
    "    monitor='val_loss',     # what to monitor\n",
    "    patience=5,             # how many epochs to wait before stopping\n",
    "    restore_best_weights=True  # restore model weights from the epoch with the best value of the monitored quantity\n",
    ")\n",
    "\n",
    "\n",
    "\n",
    "# Fit model with EarlyStopping\n",
    "history=model.fit(\n",
    "    train_set,\n",
    "    steps_per_epoch= 120,\n",
    "    epochs=50,\n",
    "    validation_data=test_set,\n",
    "    callbacks=[early_stopping]  # Add the callback here\n",
    ")\n",
    "\n"
   ]
  },
  {
   "cell_type": "code",
   "execution_count": null,
   "id": "619e67dd",
   "metadata": {},
   "outputs": [],
   "source": [
    "model.save('asl_better_model.h5')\n",
    "\n",
    "plt.plot(history.history['accuracy'], label='Train Accuracy')\n",
    "plt.plot(history.history['val_accuracy'], label='Validation Accuracy')\n",
    "plt.title('Model Accuracy')\n",
    "plt.ylabel('Accuracy')\n",
    "plt.xlabel('Epoch')\n",
    "plt.legend(loc='lower right')\n",
    "plt.show()\n"
   ]
  },
  {
   "cell_type": "code",
   "execution_count": null,
   "id": "c6f02b54",
   "metadata": {},
   "outputs": [],
   "source": []
  },
  {
   "cell_type": "code",
   "execution_count": null,
   "id": "bfb3b5b1",
   "metadata": {},
   "outputs": [],
   "source": []
  }
 ],
 "metadata": {
  "kernelspec": {
   "display_name": "Python (tf_env)",
   "language": "python",
   "name": "tf_env"
  },
  "language_info": {
   "codemirror_mode": {
    "name": "ipython",
    "version": 3
   },
   "file_extension": ".py",
   "mimetype": "text/x-python",
   "name": "python",
   "nbconvert_exporter": "python",
   "pygments_lexer": "ipython3",
   "version": "3.10.16"
  }
 },
 "nbformat": 4,
 "nbformat_minor": 5
}
